{
 "cells": [
  {
   "cell_type": "code",
   "execution_count": 1,
   "metadata": {
    "ExecuteTime": {
     "end_time": "2022-06-08T05:01:53.940596Z",
     "start_time": "2022-06-08T05:01:51.681781Z"
    }
   },
   "outputs": [],
   "source": [
    "from selenium import webdriver\n",
    "from time import sleep\n",
    "from bs4 import BeautifulSoup\n",
    "from openpyxl import Workbook\n",
    "import requests\n",
    "from tqdm import tqdm\n",
    "import warnings\n",
    "import time\n",
    "import pandas as pd\n",
    "import numpy as np\n",
    "warnings.filterwarnings(action='ignore')\n",
    "from pandas.io.html import read_html"
   ]
  },
  {
   "cell_type": "code",
   "execution_count": 72,
   "metadata": {
    "ExecuteTime": {
     "end_time": "2022-06-07T02:32:56.674623Z",
     "start_time": "2022-06-07T02:32:56.668182Z"
    }
   },
   "outputs": [],
   "source": [
    "# 트랜스퍼마케팅 크롤링 함수\n",
    "def get_marketvalue (link) :\n",
    "    #open webdriver\n",
    "    df_all = pd.DataFrame()\n",
    "    \n",
    "    options = webdriver.ChromeOptions()\n",
    "    options.add_argument('window-size=1920,1080')\n",
    "\n",
    "    driver = webdriver.Chrome('chromedriver', options=options) \n",
    "        \n",
    "    # 웹 스크래핑 동작 구간\n",
    "    for i in  link:\n",
    "        driver.get(i)\n",
    "        time.sleep(5)\n",
    "        table = driver.find_element_by_xpath('//*[@id=\"main\"]/div[6]/div[1]/div[1]/div[4]')\n",
    "        table_html = table.get_attribute('innerHTML')\n",
    "        df = read_html(table_html)[0]\n",
    "        df_all = pd.concat([df_all, df])\n",
    "\n",
    "    return(df_all)"
   ]
  },
  {
   "cell_type": "code",
   "execution_count": 55,
   "metadata": {
    "ExecuteTime": {
     "end_time": "2022-06-07T02:00:36.990398Z",
     "start_time": "2022-06-07T02:00:36.450662Z"
    }
   },
   "outputs": [],
   "source": [
    "# 5대리그 클럽 별 선수 목록 URI\n",
    "epl = pd.read_excel('트랜스퍼마켓 클럽 링크.xlsx', sheet_name='epl')\n",
    "italy = pd.read_excel('트랜스퍼마켓 클럽 링크.xlsx', sheet_name='italy')\n",
    "laliga = pd.read_excel('트랜스퍼마켓 클럽 링크.xlsx', sheet_name='laliga')\n",
    "bundesliga = pd.read_excel('트랜스퍼마켓 클럽 링크.xlsx', sheet_name='bundesliga')\n",
    "ligue1 = pd.read_excel('트랜스퍼마켓 클럽 링크.xlsx', sheet_name='ligue1')"
   ]
  },
  {
   "cell_type": "code",
   "execution_count": 67,
   "metadata": {
    "ExecuteTime": {
     "end_time": "2022-06-07T02:15:15.281060Z",
     "start_time": "2022-06-07T02:15:15.264118Z"
    }
   },
   "outputs": [
    {
     "data": {
      "text/plain": [
       "0     https://www.transfermarkt.com/manchester-city/...\n",
       "1     https://www.transfermarkt.com/fc-liverpool/sta...\n",
       "2     https://www.transfermarkt.com/fc-chelsea/start...\n",
       "3     https://www.transfermarkt.com/tottenham-hotspu...\n",
       "4     https://www.transfermarkt.com/west-ham-united/...\n",
       "5     https://www.transfermarkt.com/fc-arsenal/start...\n",
       "6     https://www.transfermarkt.com/manchester-unite...\n",
       "7     https://www.transfermarkt.com/crystal-palace/s...\n",
       "8     https://www.transfermarkt.com/leicester-city/s...\n",
       "9     https://www.transfermarkt.com/brighton-amp-hov...\n",
       "10    https://www.transfermarkt.com/wolverhampton-wa...\n",
       "11    https://www.transfermarkt.com/aston-villa/star...\n",
       "12    https://www.transfermarkt.com/fc-burnley/start...\n",
       "13    https://www.transfermarkt.com/fc-brentford/sta...\n",
       "14    https://www.transfermarkt.com/fc-southampton/s...\n",
       "15    https://www.transfermarkt.com/newcastle-united...\n",
       "16    https://www.transfermarkt.com/fc-everton/start...\n",
       "17    https://www.transfermarkt.com/leeds-united/sta...\n",
       "18    https://www.transfermarkt.com/fc-watford/start...\n",
       "19    https://www.transfermarkt.com/norwich-city/sta...\n",
       "Name: link, dtype: object"
      ]
     },
     "execution_count": 67,
     "metadata": {},
     "output_type": "execute_result"
    }
   ],
   "source": [
    "epl['link']"
   ]
  },
  {
   "cell_type": "code",
   "execution_count": 85,
   "metadata": {
    "ExecuteTime": {
     "end_time": "2022-06-07T02:51:20.528360Z",
     "start_time": "2022-06-07T02:48:35.576497Z"
    }
   },
   "outputs": [],
   "source": [
    "# 함수 작동 예시\n",
    "ligue1_marketvalue = get_marketvalue(ligue1['link'])"
   ]
  }
 ],
 "metadata": {
  "kernelspec": {
   "display_name": "Python 3",
   "language": "python",
   "name": "python3"
  },
  "language_info": {
   "codemirror_mode": {
    "name": "ipython",
    "version": 3
   },
   "file_extension": ".py",
   "mimetype": "text/x-python",
   "name": "python",
   "nbconvert_exporter": "python",
   "pygments_lexer": "ipython3",
   "version": "3.8.3"
  },
  "toc": {
   "base_numbering": 1,
   "nav_menu": {},
   "number_sections": true,
   "sideBar": true,
   "skip_h1_title": false,
   "title_cell": "Table of Contents",
   "title_sidebar": "Contents",
   "toc_cell": false,
   "toc_position": {},
   "toc_section_display": true,
   "toc_window_display": false
  },
  "varInspector": {
   "cols": {
    "lenName": 16,
    "lenType": 16,
    "lenVar": 40
   },
   "kernels_config": {
    "python": {
     "delete_cmd_postfix": "",
     "delete_cmd_prefix": "del ",
     "library": "var_list.py",
     "varRefreshCmd": "print(var_dic_list())"
    },
    "r": {
     "delete_cmd_postfix": ") ",
     "delete_cmd_prefix": "rm(",
     "library": "var_list.r",
     "varRefreshCmd": "cat(var_dic_list()) "
    }
   },
   "types_to_exclude": [
    "module",
    "function",
    "builtin_function_or_method",
    "instance",
    "_Feature"
   ],
   "window_display": false
  }
 },
 "nbformat": 4,
 "nbformat_minor": 5
}
