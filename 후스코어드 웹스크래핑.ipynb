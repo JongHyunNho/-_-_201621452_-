{
 "cells": [
  {
   "cell_type": "code",
   "execution_count": 1,
   "metadata": {
    "ExecuteTime": {
     "end_time": "2022-06-07T15:23:00.028271Z",
     "start_time": "2022-06-07T15:22:57.615000Z"
    }
   },
   "outputs": [],
   "source": [
    "from selenium import webdriver\n",
    "from time import sleep\n",
    "from bs4 import BeautifulSoup\n",
    "from openpyxl import Workbook\n",
    "import requests\n",
    "from tqdm import tqdm\n",
    "import warnings\n",
    "import time\n",
    "import pandas as pd\n",
    "import numpy as np\n",
    "warnings.filterwarnings(action='ignore')\n",
    "from pandas.io.html import read_html\n",
    "\n",
    "# 데이터셋 Summary 가져오기\n",
    "def get_summary (url, sleep_time) :\n",
    "    #open webdriver\n",
    "    \n",
    "    options = webdriver.ChromeOptions()\n",
    "    options.add_argument('window-size=1920,1080')\n",
    "\n",
    "    driver = webdriver.Chrome('chromedriver', options=options)\n",
    "    driver.get(url)\n",
    "    \n",
    "    # 전체 플레이어 불러오기\n",
    "    time.sleep(sleep_time)\n",
    "    all_player = driver.find_element_by_link_text('All players')\n",
    "    all_player.click()\n",
    "    \n",
    "    # 전체 페이지 불러오기\n",
    "    time.sleep(sleep_time)\n",
    "    page = driver.find_element_by_link_text('last')\n",
    "    total_page = int(page.get_attribute('data-page'))\n",
    "    \n",
    "    # 데이터프레임 생성\n",
    "    df_summary = pd.DataFrame(columns = ['Player', 'Player.1', 'Apps', 'Mins',\n",
    "       'Goals', 'Assists', 'Yel', 'Red', 'SpG', 'PS%', 'AerialsWon',\n",
    "                                        'MotM'])\n",
    "    name_list = []\n",
    "    \n",
    "    # 웹 스크래핑 동작 구간\n",
    "    for i in np.arange(total_page) :\n",
    "        time.sleep(sleep_time)\n",
    "        table = driver.find_element_by_xpath('//*[@id=\"statistics-table-summary\"]')\n",
    "        table_html = table.get_attribute('innerHTML')\n",
    "        df2 = read_html(table_html)[0]\n",
    "        \n",
    "        df_summary = pd.concat([df_summary, df2], axis=0)\n",
    "        driver.find_element_by_link_text('next').click()\n",
    "        \n",
    "    return(df_summary)\n"
   ]
  },
  {
   "cell_type": "code",
   "execution_count": 3,
   "metadata": {
    "ExecuteTime": {
     "end_time": "2022-06-07T15:31:11.178666Z",
     "start_time": "2022-06-07T15:31:11.164564Z"
    }
   },
   "outputs": [],
   "source": [
    "# 리그별 url 입력 및 데이터 웹스크래핑 하기\n",
    "url_epl = 'https://1xbet.whoscored.com/Regions/252/Tournaments/2/Seasons/8618/Stages/19793/PlayerStatistics/England-Premier-League-2021-2022'\n",
    "url_seriaA = 'https://1xbet.whoscored.com/Regions/108/Tournaments/5/Seasons/8735/Stages/19982/PlayerStatistics/Italy-Serie-A-2021-2022'\n",
    "url_laliga = 'https://1xbet.whoscored.com/Regions/206/Tournaments/4/Seasons/8681/Stages/19895/PlayerStatistics/Spain-LaLiga-2021-2022'\n",
    "url_bundesliga = 'https://1xbet.whoscored.com/Regions/81/Tournaments/3/Seasons/8667/Stages/19862/PlayerStatistics/Germany-Bundesliga-2021-2022'\n",
    "url_ligue1 = 'https://1xbet.whoscored.com/Regions/74/Tournaments/22/Seasons/8671/Stages/19866/PlayerStatistics/France-Ligue-1-2021-2022'\n",
    "\n",
    "# df_seriaA = get_summary(url_seriaA, 5)"
   ]
  },
  {
   "cell_type": "code",
   "execution_count": 5,
   "metadata": {
    "ExecuteTime": {
     "end_time": "2022-06-07T15:36:30.785741Z",
     "start_time": "2022-06-07T15:36:30.773775Z"
    }
   },
   "outputs": [],
   "source": [
    "epl_club = ['Man City', 'Man Utd', 'Liverpool', 'Tottenham',\n",
    "           'Newcastle', 'Brentford', 'Burnley', 'Aston Villa', 'Crystal Palace',\n",
    "           'Wolves', 'Arsenal', 'Brighton', 'Chelsea', 'Everton',\n",
    "           'Leicester', 'Southampton', 'West Ham', 'Norwich', 'Watford', 'Leeds']"
   ]
  },
  {
   "cell_type": "code",
   "execution_count": 79,
   "metadata": {
    "ExecuteTime": {
     "end_time": "2022-06-06T15:21:17.197010Z",
     "start_time": "2022-06-06T15:21:17.153886Z"
    }
   },
   "outputs": [],
   "source": [
    "# lambda 함수를 이용해 획득한 데이터셋의 불필요한 오른쪽 빈칸을 삭제.\n",
    "for i in epl_club:\n",
    "    data['Player.1'] = data['Player.1'].apply(lambda x : x.replace(i,\"\"))"
   ]
  },
  {
   "cell_type": "code",
   "execution_count": 84,
   "metadata": {
    "ExecuteTime": {
     "end_time": "2022-06-06T15:29:01.950683Z",
     "start_time": "2022-06-06T15:29:01.920777Z"
    }
   },
   "outputs": [
    {
     "data": {
      "text/html": [
       "<div>\n",
       "<style scoped>\n",
       "    .dataframe tbody tr th:only-of-type {\n",
       "        vertical-align: middle;\n",
       "    }\n",
       "\n",
       "    .dataframe tbody tr th {\n",
       "        vertical-align: top;\n",
       "    }\n",
       "\n",
       "    .dataframe thead th {\n",
       "        text-align: right;\n",
       "    }\n",
       "</style>\n",
       "<table border=\"1\" class=\"dataframe\">\n",
       "  <thead>\n",
       "    <tr style=\"text-align: right;\">\n",
       "      <th></th>\n",
       "      <th>Unnamed: 0</th>\n",
       "      <th>Player</th>\n",
       "      <th>Player.1</th>\n",
       "      <th>Age</th>\n",
       "      <th>position1</th>\n",
       "      <th>postion2</th>\n",
       "      <th>postion3</th>\n",
       "      <th>Apps</th>\n",
       "      <th>Mins</th>\n",
       "      <th>Goals</th>\n",
       "      <th>Assists</th>\n",
       "      <th>Yel</th>\n",
       "      <th>Red</th>\n",
       "      <th>SpG</th>\n",
       "      <th>PS%</th>\n",
       "      <th>AerialsWon</th>\n",
       "      <th>MotM</th>\n",
       "      <th>Rating</th>\n",
       "    </tr>\n",
       "  </thead>\n",
       "  <tbody>\n",
       "    <tr>\n",
       "      <th>0</th>\n",
       "      <td>0</td>\n",
       "      <td>1Kevin De BruyneMan City, 30, M(CLR),FW</td>\n",
       "      <td>Kevin De Bruyne</td>\n",
       "      <td>30</td>\n",
       "      <td>M(CLR)</td>\n",
       "      <td>FW</td>\n",
       "      <td>NaN</td>\n",
       "      <td>25(5)</td>\n",
       "      <td>2205</td>\n",
       "      <td>15</td>\n",
       "      <td>8</td>\n",
       "      <td>2</td>\n",
       "      <td>-</td>\n",
       "      <td>2.6</td>\n",
       "      <td>82.5</td>\n",
       "      <td>0.4</td>\n",
       "      <td>4</td>\n",
       "      <td>7.64</td>\n",
       "    </tr>\n",
       "    <tr>\n",
       "      <th>1</th>\n",
       "      <td>1</td>\n",
       "      <td>2Mohamed SalahLiverpool, 29, AM(CLR),FW</td>\n",
       "      <td>Mohamed Salah</td>\n",
       "      <td>29</td>\n",
       "      <td>AM(CLR)</td>\n",
       "      <td>FW</td>\n",
       "      <td>NaN</td>\n",
       "      <td>30(5)</td>\n",
       "      <td>2763</td>\n",
       "      <td>23</td>\n",
       "      <td>13</td>\n",
       "      <td>1</td>\n",
       "      <td>-</td>\n",
       "      <td>4</td>\n",
       "      <td>79.9</td>\n",
       "      <td>0.2</td>\n",
       "      <td>7</td>\n",
       "      <td>7.54</td>\n",
       "    </tr>\n",
       "    <tr>\n",
       "      <th>2</th>\n",
       "      <td>2</td>\n",
       "      <td>3Son Heung-MinTottenham, 29, M(CLR),FW</td>\n",
       "      <td>Son Heung-Min</td>\n",
       "      <td>29</td>\n",
       "      <td>M(CLR)</td>\n",
       "      <td>FW</td>\n",
       "      <td>NaN</td>\n",
       "      <td>35</td>\n",
       "      <td>3021</td>\n",
       "      <td>23</td>\n",
       "      <td>7</td>\n",
       "      <td>2</td>\n",
       "      <td>-</td>\n",
       "      <td>2.5</td>\n",
       "      <td>86.6</td>\n",
       "      <td>0.5</td>\n",
       "      <td>6</td>\n",
       "      <td>7.52</td>\n",
       "    </tr>\n",
       "    <tr>\n",
       "      <th>3</th>\n",
       "      <td>3</td>\n",
       "      <td>4Trent Alexander-ArnoldLiverpool, 23, D(R),M(R)</td>\n",
       "      <td>Trent Alexander-Arnold</td>\n",
       "      <td>23</td>\n",
       "      <td>D(R)</td>\n",
       "      <td>M(R)</td>\n",
       "      <td>NaN</td>\n",
       "      <td>32</td>\n",
       "      <td>2854</td>\n",
       "      <td>2</td>\n",
       "      <td>12</td>\n",
       "      <td>2</td>\n",
       "      <td>-</td>\n",
       "      <td>1.6</td>\n",
       "      <td>78.1</td>\n",
       "      <td>0.5</td>\n",
       "      <td>5</td>\n",
       "      <td>7.51</td>\n",
       "    </tr>\n",
       "    <tr>\n",
       "      <th>4</th>\n",
       "      <td>4</td>\n",
       "      <td>5KenedyChelsea, 26, D(L),M(LR)</td>\n",
       "      <td>Kenedy</td>\n",
       "      <td>26</td>\n",
       "      <td>D(L)</td>\n",
       "      <td>M(LR)</td>\n",
       "      <td>NaN</td>\n",
       "      <td>1</td>\n",
       "      <td>59</td>\n",
       "      <td>-</td>\n",
       "      <td>1</td>\n",
       "      <td>-</td>\n",
       "      <td>-</td>\n",
       "      <td>1</td>\n",
       "      <td>73.9</td>\n",
       "      <td>-</td>\n",
       "      <td>-</td>\n",
       "      <td>7.46</td>\n",
       "    </tr>\n",
       "  </tbody>\n",
       "</table>\n",
       "</div>"
      ],
      "text/plain": [
       "   Unnamed: 0                                           Player  \\\n",
       "0           0          1Kevin De BruyneMan City, 30, M(CLR),FW   \n",
       "1           1          2Mohamed SalahLiverpool, 29, AM(CLR),FW   \n",
       "2           2           3Son Heung-MinTottenham, 29, M(CLR),FW   \n",
       "3           3  4Trent Alexander-ArnoldLiverpool, 23, D(R),M(R)   \n",
       "4           4                   5KenedyChelsea, 26, D(L),M(LR)   \n",
       "\n",
       "                  Player.1  Age position1 postion2 postion3   Apps  Mins  \\\n",
       "0         Kevin De Bruyne    30    M(CLR)       FW      NaN  25(5)  2205   \n",
       "1           Mohamed Salah    29   AM(CLR)       FW      NaN  30(5)  2763   \n",
       "2           Son Heung-Min    29    M(CLR)       FW      NaN     35  3021   \n",
       "3  Trent Alexander-Arnold    23      D(R)     M(R)      NaN     32  2854   \n",
       "4                  Kenedy    26      D(L)    M(LR)      NaN      1    59   \n",
       "\n",
       "  Goals Assists Yel Red  SpG   PS% AerialsWon MotM  Rating  \n",
       "0    15       8   2   -  2.6  82.5        0.4    4    7.64  \n",
       "1    23      13   1   -    4  79.9        0.2    7    7.54  \n",
       "2    23       7   2   -  2.5  86.6        0.5    6    7.52  \n",
       "3     2      12   2   -  1.6  78.1        0.5    5    7.51  \n",
       "4     -       1   -   -    1  73.9          -    -    7.46  "
      ]
     },
     "execution_count": 84,
     "metadata": {},
     "output_type": "execute_result"
    }
   ],
   "source": [
    "data.head()"
   ]
  },
  {
   "cell_type": "code",
   "execution_count": 1,
   "metadata": {
    "ExecuteTime": {
     "end_time": "2022-06-13T13:39:19.102504Z",
     "start_time": "2022-06-13T13:39:19.096504Z"
    }
   },
   "outputs": [],
   "source": [
    "ligue1_club = ['PSG','Lyon', 'Rennes', 'Strasbourg', 'Monaco',\n",
    "               'Marseille', 'Nice', 'Lens', 'Nantes', 'Brest',\n",
    "               'Lille', 'Reims', 'Montpellier', 'Angers', 'Metz',\n",
    "               'Lorient', 'Troyes', 'Saint-Etienne', 'Clermont Foot',\n",
    "               'Bordeaux']"
   ]
  },
  {
   "cell_type": "code",
   "execution_count": 30,
   "metadata": {
    "ExecuteTime": {
     "end_time": "2022-06-07T16:16:33.273865Z",
     "start_time": "2022-06-07T16:16:33.253897Z"
    }
   },
   "outputs": [
    {
     "data": {
      "text/plain": [
       "18"
      ]
     },
     "execution_count": 30,
     "metadata": {},
     "output_type": "execute_result"
    }
   ],
   "source": [
    "bundesliga_club = ['Bayern','Leverkusen', 'Borussia Dortmund','RBL',\n",
    "                   'Freiburg', 'Borussia M.Gladbach', 'FC Koln', 'Mainz',\n",
    "                  'Wolfsburg', 'Stuttgart', 'Union Berlin',\n",
    "                  'Frankfurt', 'Hoffenheim', 'Bochum', 'Augsburg',\n",
    "                  'Arminia Bielefeld', 'Hertha Berlin', 'Greuther Fuerth']\n",
    "\n",
    "len(bundesliga_club)"
   ]
  },
  {
   "cell_type": "code",
   "execution_count": 36,
   "metadata": {
    "ExecuteTime": {
     "end_time": "2022-06-07T16:18:55.402909Z",
     "start_time": "2022-06-07T16:18:55.394940Z"
    }
   },
   "outputs": [
    {
     "data": {
      "text/plain": [
       "20"
      ]
     },
     "execution_count": 36,
     "metadata": {},
     "output_type": "execute_result"
    }
   ],
   "source": [
    "seriaA_club = ['Inter', 'AC Milan', 'Napoli', 'Juventus',\n",
    "               'Atalanta', 'Roma', 'Lazio', 'Torino', 'Verona',\n",
    "               'Udinese', 'Sassuolo', 'Bologna', 'Fiorentina', 'Sampdoria',\n",
    "               'Empoli', 'Spezia', 'Cagliari', 'Genoa', 'Venezia', 'Salernitana']\n",
    "\n",
    "len(seriaA_club)"
   ]
  },
  {
   "cell_type": "code",
   "execution_count": 39,
   "metadata": {
    "ExecuteTime": {
     "end_time": "2022-06-07T16:20:05.496801Z",
     "start_time": "2022-06-07T16:20:05.465470Z"
    }
   },
   "outputs": [
    {
     "data": {
      "text/plain": [
       "20"
      ]
     },
     "execution_count": 39,
     "metadata": {},
     "output_type": "execute_result"
    }
   ],
   "source": [
    "laliga = pd.read_csv('file/Spain-LaLiga-2021-2022_PlayerStatistics_summary.csv')\n",
    "laliga_club = ['Real Madrid', 'Barcelona', 'Real Betis',\n",
    "              'Villarreal', 'Atletico', 'Sevilla', 'Real Sociedad',\n",
    "              'Celta Vigo', 'Athletic Bilbao', 'Rayo Vallecano',\n",
    "              'Osasuna', 'Getafe', 'Valencia', 'Cadiz', 'Espanyol',\n",
    "              'Granada', 'Elche', 'Mallorca', 'Deportivo Alaves', 'Levante']\n",
    "\n",
    "len(laliga_club)"
   ]
  },
  {
   "cell_type": "code",
   "execution_count": 2,
   "metadata": {
    "ExecuteTime": {
     "end_time": "2022-06-07T15:29:47.906951Z",
     "start_time": "2022-06-07T15:29:47.892028Z"
    }
   },
   "outputs": [],
   "source": [
    "# offensive 데이터 크롤링\n",
    "def get_offensive (url, sleep_time) :\n",
    "    #open webdriver\n",
    "    \n",
    "    options = webdriver.ChromeOptions()\n",
    "    options.add_argument('window-size=1920,1080')\n",
    "\n",
    "    driver = webdriver.Chrome('chromedriver', options=options)\n",
    "    driver.get(url)\n",
    "    \n",
    "    # 'offensive'(공격수 스탯) 불러오기\n",
    "    time.sleep(sleep_time)\n",
    "    foward = driver.find_element_by_link_text('Offensive')\n",
    "    foward.click()\n",
    "    \n",
    "    # 전체 플레이어 불러오기\n",
    "    time.sleep(sleep_time)\n",
    "    all_player = driver.find_element_by_link_text('All players')\n",
    "    all_player.click()\n",
    "    \n",
    "    # 전체 페이지 불러오기\n",
    "    time.sleep(sleep_time)\n",
    "    page = driver.find_element_by_link_text('last')\n",
    "    total_page = int(page.get_attribute('data-page'))\n",
    "    \n",
    "    # 데이터프레임 생성\n",
    "    df_offense = pd.DataFrame(columns = ['Player', 'Player.1', 'Apps',\n",
    "       'Goals', 'Assists', 'SpG','KeyP' ,'Drb', 'Fouled',\n",
    "                                        'Off', 'Disp',\n",
    "                                        'UnsTch', 'Rating'])\n",
    "    name_list = []\n",
    "    \n",
    "    # 웹 스크래핑 동작 구간\n",
    "    for i in np.arange(total_page) :\n",
    "        time.sleep(2.5)\n",
    "        table = driver.find_element_by_xpath('//*[@id=\"statistics-table-offensive\"]')\n",
    "        table_html = table.get_attribute('innerHTML')\n",
    "        df2 = read_html(table_html)[0]\n",
    "        \n",
    "        df_offense = pd.concat([df_offense, df2], axis=0)\n",
    "        driver.find_element_by_link_text('next').click()\n",
    "        \n",
    "    return(df_offense)"
   ]
  },
  {
   "cell_type": "code",
   "execution_count": 4,
   "metadata": {
    "ExecuteTime": {
     "end_time": "2022-06-07T15:36:30.705996Z",
     "start_time": "2022-06-07T15:31:21.798465Z"
    }
   },
   "outputs": [],
   "source": [
    "# 실행 예시\n",
    "df_offense_epl = get_offensive(url_epl, 5)"
   ]
  },
  {
   "cell_type": "code",
   "execution_count": 35,
   "metadata": {
    "ExecuteTime": {
     "end_time": "2022-06-07T16:18:38.138536Z",
     "start_time": "2022-06-07T16:18:38.108585Z"
    }
   },
   "outputs": [],
   "source": [
    "# 불필요한 빈칸 삭제 예시\n",
    "for i in bundesliga_club:\n",
    "    df_offense_bundesliga_read_csv['Player.1'] = df_offense_bundesliga_read_csv['Player.1'].apply(lambda x : x.replace(i,\"\"))\n",
    "df_offense_bundesliga_read_csv['Player.1'] = df_offense_bundesliga_read_csv['Player.1'].str.rstrip()    \n",
    "df_offense_bundesliga_read_csv.to_csv('file/offense/[Modify]Germany-Bundesliga-2021-2022_PlayerStatistics_offense.csv')"
   ]
  },
  {
   "cell_type": "code",
   "execution_count": 46,
   "metadata": {
    "ExecuteTime": {
     "end_time": "2022-06-07T16:29:06.569132Z",
     "start_time": "2022-06-07T16:29:06.562151Z"
    }
   },
   "outputs": [],
   "source": [
    "# defensive 데이터 크롤링\n",
    "def get_defensive(url, sleep_time) :\n",
    "    #open webdriver\n",
    "    \n",
    "    options = webdriver.ChromeOptions()\n",
    "    options.add_argument('window-size=1920,1080')\n",
    "\n",
    "    driver = webdriver.Chrome('chromedriver', options=options)\n",
    "    driver.get(url)\n",
    "    \n",
    "    # 'defense'(수 스탯) 불러오기\n",
    "    time.sleep(sleep_time)\n",
    "    foward = driver.find_element_by_link_text('Defensive')\n",
    "    foward.click()\n",
    "    \n",
    "    # 전체 플레이어 불러오기\n",
    "    time.sleep(sleep_time)\n",
    "    all_player = driver.find_element_by_link_text('All players')\n",
    "    all_player.click()\n",
    "    \n",
    "    # 전체 페이지 불러오기\n",
    "    time.sleep(sleep_time)\n",
    "    page = driver.find_element_by_link_text('last')\n",
    "    total_page = int(page.get_attribute('data-page'))\n",
    "    \n",
    "    # 데이터프레임 생성\n",
    "    df_defensive = pd.DataFrame(columns = ['Player', 'Player.1', 'Apps',\n",
    "       'Mins', 'Tackles','Inter','Fouls' ,'Offsides', 'Clear',\n",
    "                                        'Drb', 'Blocks',\n",
    "                                        'OwnG', 'Rating'])\n",
    "    name_list = []\n",
    "    \n",
    "    # 웹 스크래핑 동작 구간\n",
    "    for i in np.arange(total_page) :\n",
    "        time.sleep(2.5)\n",
    "        table = driver.find_element_by_xpath('//*[@id=\"statistics-table-defensive\"]')\n",
    "        table_html = table.get_attribute('innerHTML')\n",
    "        df2 = read_html(table_html)[0]\n",
    "        \n",
    "        df_defensive = pd.concat([df_defensive, df2], axis=0)\n",
    "        driver.find_element_by_link_text('next').click()\n",
    "        \n",
    "    return(df_defensive)"
   ]
  },
  {
   "cell_type": "code",
   "execution_count": 47,
   "metadata": {
    "ExecuteTime": {
     "end_time": "2022-06-07T16:31:56.636022Z",
     "start_time": "2022-06-07T16:29:07.451850Z"
    }
   },
   "outputs": [],
   "source": [
    "# 사용예시\n",
    "df_defense_epl = get_defensive(url_epl, 5)"
   ]
  },
  {
   "cell_type": "code",
   "execution_count": 69,
   "metadata": {
    "ExecuteTime": {
     "end_time": "2022-06-08T01:17:08.176861Z",
     "start_time": "2022-06-08T01:17:08.142973Z"
    }
   },
   "outputs": [],
   "source": [
    "# 불필요한 빈칸 삭제\n",
    "for i in epl_club:\n",
    "    df_defense_epl_read_csv['Player.1'] = df_defense_epl_read_csv['Player.1'].apply(lambda x : x.replace(i,\"\"))\n",
    "df_defense_epl_read_csv['Player.1'] = df_defense_epl_read_csv['Player.1'].str.rstrip()    \n",
    "df_defense_epl_read_csv.to_csv('file/defense/[Modify]England-Premier-League-2021-2022_PlayerStatistics_defense.csv')"
   ]
  },
  {
   "cell_type": "code",
   "execution_count": 80,
   "metadata": {
    "ExecuteTime": {
     "end_time": "2022-06-08T12:19:43.117273Z",
     "start_time": "2022-06-08T12:19:43.092355Z"
    }
   },
   "outputs": [],
   "source": [
    "# passing 데이터 크롤링\n",
    "def get_passing(url, sleep_time) :\n",
    "    #open webdriver\n",
    "    \n",
    "    options = webdriver.ChromeOptions()\n",
    "    options.add_argument('window-size=1920,1080')\n",
    "\n",
    "    driver = webdriver.Chrome('chromedriver', options=options)\n",
    "    driver.get(url)\n",
    "    \n",
    "    # 'defense'(수 스탯) 불러오기\n",
    "    time.sleep(sleep_time)\n",
    "    passing = driver.find_element_by_link_text('Passing')\n",
    "    passing.click()\n",
    "    \n",
    "    # 전체 플레이어 불러오기\n",
    "    time.sleep(sleep_time)\n",
    "    all_player = driver.find_element_by_link_text('All players')\n",
    "    all_player.click()\n",
    "    \n",
    "    # 전체 페이지 불러오기\n",
    "    time.sleep(sleep_time)\n",
    "    page = driver.find_element_by_link_text('last')\n",
    "    total_page = int(page.get_attribute('data-page'))\n",
    "    \n",
    "    # 데이터프레임 생성\n",
    "    df_passing = pd.DataFrame(columns = ['Player', 'Player.1', 'Apps',\n",
    "       'Mins', 'Assists','AvgP','PS%' ,'Crosses', 'LongB',\n",
    "                                        'ThrB', 'Rating'])\n",
    "    name_list = []\n",
    "    \n",
    "    # 웹 스크래핑 동작 구간\n",
    "    for i in np.arange(total_page) :\n",
    "        time.sleep(2.5)\n",
    "        table = driver.find_element_by_xpath('//*[@id=\"statistics-table-passing\"]')\n",
    "        table_html = table.get_attribute('innerHTML')\n",
    "        df2 = read_html(table_html)[0]\n",
    "        \n",
    "        df_passing = pd.concat([df_passing, df2], axis=0)\n",
    "        driver.find_element_by_link_text('next').click()\n",
    "        \n",
    "    return(df_passing)"
   ]
  },
  {
   "cell_type": "code",
   "execution_count": 81,
   "metadata": {
    "ExecuteTime": {
     "end_time": "2022-06-08T12:22:35.201577Z",
     "start_time": "2022-06-08T12:19:44.944119Z"
    }
   },
   "outputs": [],
   "source": [
    "# 사용예시\n",
    "df_passing_epl = get_passing(url_epl, 5)"
   ]
  },
  {
   "cell_type": "code",
   "execution_count": 99,
   "metadata": {
    "ExecuteTime": {
     "end_time": "2022-06-08T12:28:32.440653Z",
     "start_time": "2022-06-08T12:28:32.417735Z"
    }
   },
   "outputs": [],
   "source": [
    "# 불필요 열 삭제\n",
    "for i in epl_club:\n",
    "    df_passing_epl_read_csv['Player.1'] = df_passing_epl_read_csv['Player.1'].apply(lambda x : x.replace(i,\"\"))\n",
    "df_passing_epl_read_csv['Player.1'] = df_passing_epl_read_csv['Player.1'].str.rstrip()    \n",
    "df_passing_epl_read_csv.to_csv('file/passing/[Modify]fileEngland-Premier-League-2021-2022_PlayerStatistics_passing.csv')"
   ]
  }
 ],
 "metadata": {
  "kernelspec": {
   "display_name": "Python 3",
   "language": "python",
   "name": "python3"
  },
  "language_info": {
   "codemirror_mode": {
    "name": "ipython",
    "version": 3
   },
   "file_extension": ".py",
   "mimetype": "text/x-python",
   "name": "python",
   "nbconvert_exporter": "python",
   "pygments_lexer": "ipython3",
   "version": "3.8.3"
  },
  "toc": {
   "base_numbering": 1,
   "nav_menu": {},
   "number_sections": true,
   "sideBar": true,
   "skip_h1_title": false,
   "title_cell": "Table of Contents",
   "title_sidebar": "Contents",
   "toc_cell": false,
   "toc_position": {},
   "toc_section_display": true,
   "toc_window_display": false
  },
  "varInspector": {
   "cols": {
    "lenName": 16,
    "lenType": 16,
    "lenVar": 40
   },
   "kernels_config": {
    "python": {
     "delete_cmd_postfix": "",
     "delete_cmd_prefix": "del ",
     "library": "var_list.py",
     "varRefreshCmd": "print(var_dic_list())"
    },
    "r": {
     "delete_cmd_postfix": ") ",
     "delete_cmd_prefix": "rm(",
     "library": "var_list.r",
     "varRefreshCmd": "cat(var_dic_list()) "
    }
   },
   "types_to_exclude": [
    "module",
    "function",
    "builtin_function_or_method",
    "instance",
    "_Feature"
   ],
   "window_display": false
  }
 },
 "nbformat": 4,
 "nbformat_minor": 5
}
